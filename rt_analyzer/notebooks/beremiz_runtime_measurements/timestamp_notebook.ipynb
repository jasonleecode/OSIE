{
 "cells": [
  {
   "cell_type": "markdown",
   "id": "439adf9f",
   "metadata": {},
   "source": [
    "## Measurements of Beremiz-IDE / Runtime controlling two couplers with cycle time of 20ms"
   ]
  },
  {
   "cell_type": "code",
   "execution_count": 5,
   "id": "a19f317d",
   "metadata": {},
   "outputs": [],
   "source": [
    "import matplotlib.pyplot as plt\n",
    "import pandas as pd\n",
    "import statistics"
   ]
  },
  {
   "cell_type": "code",
   "execution_count": 2,
   "id": "b9dad676",
   "metadata": {},
   "outputs": [],
   "source": [
    "f=open(\"coupler0_duration.txt\", \"r\")\n",
    "lines = f.readlines()\n",
    "f.close()\n",
    "lines = [float(x.replace(\"\\n\", \"\")) for x  in lines[:]]"
   ]
  },
  {
   "cell_type": "code",
   "execution_count": 3,
   "id": "d0d49bb0",
   "metadata": {},
   "outputs": [],
   "source": [
    "d = {}\n",
    "i = 0\n",
    "for x in lines:\n",
    "    d[i] = x\n",
    "    i += 1\n",
    "s = pd.Series(d, name='duration')"
   ]
  },
  {
   "cell_type": "code",
   "execution_count": 4,
   "id": "16a57b80",
   "metadata": {},
   "outputs": [
    {
     "data": {
      "image/png": "[encoded data removed]",
      "text/plain": [
       "<Figure size 640x480 with 1 Axes>"
      ]
     },
     "metadata": {},
     "output_type": "display_data"
    }
   ],
   "source": [
    "s.plot.bar()\n",
    "plt.title(\"Coupler 0 cycle time duration\")\n",
    "plt.xlabel('Cycles', fontsize=10)\n",
    "plt.ylabel('ms', fontsize=10)\n",
    "plt.xticks([])\n",
    "plt.show()"
   ]
  },
  {
   "cell_type": "code",
   "execution_count": 10,
   "id": "8a57ba01",
   "metadata": {},
   "outputs": [],
   "source": [
    "timestamp_channel0_delta_list = lines\n",
    "round_base=5\n",
    "channel0_mean = statistics.mean(timestamp_channel0_delta_list)\n",
    "channel0_median =statistics.median(timestamp_channel0_delta_list)\n",
    "channel0_stdev = statistics.stdev(timestamp_channel0_delta_list)\n",
    "channel0_stdev_percentile = (channel0_stdev * 100) / channel0_median\n",
    "try:\n",
    "  channel0_mode = statistics.mode(timestamp_channel0_delta_list)\n",
    "except statistics.StatisticsError:\n",
    "  channel0_mode = None\n",
    "channel0_min = min(timestamp_channel0_delta_list)\n",
    "channel0_max = max(timestamp_channel0_delta_list)"
   ]
  },
  {
   "cell_type": "code",
   "execution_count": 14,
   "id": "677c0e73",
   "metadata": {},
   "outputs": [
    {
     "name": "stdout",
     "output_type": "stream",
     "text": [
      "Coupler0 (in milli seconds):\n",
      "\tMean =    20.00316\n",
      "\tMedian =  19.99182\n",
      "\tMin =     12.08136\n",
      "\tMax =     32.50304\n",
      "\tStandart deviation =  0.78562\n",
      "\tStandart deviation (%) =  3.92971\n",
      "\tMode (most occurencies) =  19.8326\n"
     ]
    }
   ],
   "source": [
    "print(\"Coupler0 (in milli seconds):\")\n",
    "print(\"\\tMean =   \", round(channel0_mean, round_base))\n",
    "print(\"\\tMedian = \", round(channel0_median, round_base))\n",
    "print(\"\\tMin =    \", round(channel0_min, round_base))\n",
    "print(\"\\tMax =    \", round(channel0_max, round_base))\n",
    "print(\"\\tStandart deviation = \", round(channel0_stdev, round_base))\n",
    "print(\"\\tStandart deviation (%) = \", round(channel0_stdev_percentile, round_base))\n",
    "print(\"\\tMode (most occurencies) = \", round(channel0_mode, round_base))"
   ]
  },
  {
   "cell_type": "code",
   "execution_count": 16,
   "id": "1b5ee5ae",
   "metadata": {},
   "outputs": [],
   "source": [
    "f=open(\"coupler1_duration.txt\", \"r\")\n",
    "lines = f.readlines()\n",
    "f.close()\n",
    "lines = [float(x.replace(\"\\n\", \"\")) for x  in lines[:]]"
   ]
  },
  {
   "cell_type": "code",
   "execution_count": 17,
   "id": "18f16b77",
   "metadata": {},
   "outputs": [],
   "source": [
    "d = {}\n",
    "i = 0\n",
    "for x in lines:\n",
    "    d[i] = x\n",
    "    i += 1\n",
    "s = pd.Series(d, name='duration')"
   ]
  },
  {
   "cell_type": "code",
   "execution_count": 24,
   "id": "b44f4d70",
   "metadata": {},
   "outputs": [
    {
     "data": {
      "image/png": "[encoded data removed]",
      "text/plain": [
       "<Figure size 640x480 with 1 Axes>"
      ]
     },
     "metadata": {},
     "output_type": "display_data"
    }
   ],
   "source": [
    "s.plot.bar()\n",
    "plt.title(\"Coupler 1 cycle time duration\")\n",
    "plt.xlabel('Cycles', fontsize=10)\n",
    "plt.ylabel('ms', fontsize=10)\n",
    "plt.xticks([])\n",
    "plt.show()"
   ]
  },
  {
   "cell_type": "code",
   "execution_count": 12,
   "id": "552fc7b3",
   "metadata": {},
   "outputs": [],
   "source": [
    "timestamp_channel1_delta_list = lines\n",
    "channel1_mean = statistics.mean(timestamp_channel1_delta_list)\n",
    "channel1_median =statistics.median(timestamp_channel1_delta_list)\n",
    "channel1_stdev = statistics.stdev(timestamp_channel1_delta_list)\n",
    "channel1_stdev_percentile = (channel1_stdev * 100) / channel1_median\n",
    "try:\n",
    "  channel1_mode = statistics.mode(timestamp_channel1_delta_list)\n",
    "except statistics.StatisticsError:\n",
    "  channel1_mode = None\n",
    "channel1_min = min(timestamp_channel1_delta_list)\n",
    "channel1_max = max(timestamp_channel1_delta_list)"
   ]
  },
  {
   "cell_type": "code",
   "execution_count": 13,
   "id": "f7a7f6bc",
   "metadata": {},
   "outputs": [
    {
     "name": "stdout",
     "output_type": "stream",
     "text": [
      "\n",
      "Coupler1 (in milli seconds):\n",
      "\tMean =    20.00316\n",
      "\tMedian =  19.99182\n",
      "\tMin =     12.08136\n",
      "\tMax =     32.50304\n",
      "\tStandart deviation =  0.78562\n",
      "\tStandart deviation (%) =  3.92971\n",
      "\tMode (most occurencies) =  19.8326\n"
     ]
    }
   ],
   "source": [
    "print(\"\\nCoupler1 (in milli seconds):\")\n",
    "print(\"\\tMean =   \", round(channel1_mean, round_base))\n",
    "print(\"\\tMedian = \", round(channel1_median, round_base))\n",
    "print(\"\\tMin =    \", round(channel1_min, round_base))\n",
    "print(\"\\tMax =    \", round(channel1_max, round_base))\n",
    "print(\"\\tStandart deviation = \", round(channel1_stdev, round_base))\n",
    "print(\"\\tStandart deviation (%) = \", round(channel1_stdev_percentile, round_base))\n",
    "print(\"\\tMode (most occurencies) = \", round(channel1_mode, round_base))"
   ]
  },
  {
   "cell_type": "code",
   "execution_count": null,
   "id": "86ad6187",
   "metadata": {},
   "outputs": [],
   "source": []
  }
 ],
 "metadata": {
  "kernelspec": {
   "display_name": "Python 3 (ipykernel)",
   "language": "python",
   "name": "python3"
  },
  "language_info": {
   "codemirror_mode": {
    "name": "ipython",
    "version": 3
   },
   "file_extension": ".py",
   "mimetype": "text/x-python",
   "name": "python",
   "nbconvert_exporter": "python",
   "pygments_lexer": "ipython3",
   "version": "3.10.6"
  }
 },
 "nbformat": 4,
 "nbformat_minor": 5
}
