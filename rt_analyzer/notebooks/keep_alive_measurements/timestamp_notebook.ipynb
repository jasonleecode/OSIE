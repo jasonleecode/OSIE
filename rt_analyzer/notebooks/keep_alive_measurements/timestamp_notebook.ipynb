{
 "cells": [
  {
   "cell_type": "markdown",
   "id": "439adf9f",
   "metadata": {},
   "source": [
    "## Measurements of keep-alive network between one master coupler and  two slave couplers with cycle time of 5ms"
   ]
  },
  {
   "cell_type": "code",
   "execution_count": 1,
   "id": "a19f317d",
   "metadata": {},
   "outputs": [],
   "source": [
    "import matplotlib.pyplot as plt\n",
    "import pandas as pd"
   ]
  },
  {
   "cell_type": "code",
   "execution_count": 2,
   "id": "b9dad676",
   "metadata": {},
   "outputs": [],
   "source": [
    "f=open(\"coupler0_duration.txt\", \"r\")\n",
    "lines = f.readlines()\n",
    "f.close()\n",
    "lines = [float(x.replace(\"\\n\", \"\")) for x  in lines[:]]"
   ]
  },
  {
   "cell_type": "code",
   "execution_count": 3,
   "id": "d0d49bb0",
   "metadata": {},
   "outputs": [],
   "source": [
    "d = {}\n",
    "i = 0\n",
    "for x in lines:\n",
    "    d[i] = x\n",
    "    i += 1\n",
    "s = pd.Series(d, name='duration')"
   ]
  },
  {
   "cell_type": "code",
   "execution_count": 4,
   "id": "16a57b80",
   "metadata": {},
   "outputs": [
    {
     "data": {
      "image/png": "[encoded data removed]",
      "text/plain": [
       "<Figure size 640x480 with 1 Axes>"
      ]
     },
     "metadata": {},
     "output_type": "display_data"
    }
   ],
   "source": [
    "s.plot.bar()\n",
    "plt.title(\"Coupler 0 keep-alive duration\")\n",
    "plt.xlabel('Cycles', fontsize=10)\n",
    "plt.ylabel('ms', fontsize=10)\n",
    "plt.xticks([])\n",
    "plt.show()"
   ]
  },
  {
   "cell_type": "code",
   "execution_count": 5,
   "id": "1b5ee5ae",
   "metadata": {},
   "outputs": [],
   "source": [
    "f=open(\"coupler1_duration.txt\", \"r\")\n",
    "lines = f.readlines()\n",
    "f.close()\n",
    "lines = [float(x.replace(\"\\n\", \"\")) for x  in lines[:]]"
   ]
  },
  {
   "cell_type": "code",
   "execution_count": 6,
   "id": "18f16b77",
   "metadata": {},
   "outputs": [],
   "source": [
    "d = {}\n",
    "i = 0\n",
    "for x in lines:\n",
    "    d[i] = x\n",
    "    i += 1\n",
    "s = pd.Series(d, name='duration')"
   ]
  },
  {
   "cell_type": "code",
   "execution_count": null,
   "id": "b44f4d70",
   "metadata": {},
   "outputs": [],
   "source": [
    "s.plot.bar()\n",
    "plt.title(\"Coupler 1 keep-alive duration\")\n",
    "plt.xlabel('Cycles', fontsize=10)\n",
    "plt.ylabel('ms', fontsize=10)\n",
    "plt.xticks([])\n",
    "plt.show()"
   ]
  },
  {
   "cell_type": "code",
   "execution_count": null,
   "id": "552fc7b3",
   "metadata": {},
   "outputs": [],
   "source": []
  }
 ],
 "metadata": {
  "kernelspec": {
   "display_name": "Python 3 (ipykernel)",
   "language": "python",
   "name": "python3"
  },
  "language_info": {
   "codemirror_mode": {
    "name": "ipython",
    "version": 3
   },
   "file_extension": ".py",
   "mimetype": "text/x-python",
   "name": "python",
   "nbconvert_exporter": "python",
   "pygments_lexer": "ipython3",
   "version": "3.10.6"
  }
 },
 "nbformat": 4,
 "nbformat_minor": 5
}
